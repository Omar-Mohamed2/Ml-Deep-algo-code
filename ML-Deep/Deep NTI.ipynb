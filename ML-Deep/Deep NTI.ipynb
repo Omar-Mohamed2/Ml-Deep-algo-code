{
 "cells": [
  {
   "cell_type": "markdown",
   "metadata": {},
   "source": [
    "Deep"
   ]
  },
  {
   "cell_type": "code",
   "execution_count": 8,
   "metadata": {},
   "outputs": [
    {
     "name": "stdout",
     "output_type": "stream",
     "text": [
      "Epoch 1/10\n",
      "6/6 [==============================] - 1s 3ms/step - loss: 1.1769 - accuracy: 0.2250\n",
      "Epoch 2/10\n",
      "6/6 [==============================] - 0s 3ms/step - loss: 1.1311 - accuracy: 0.2750\n",
      "Epoch 3/10\n",
      "6/6 [==============================] - 0s 3ms/step - loss: 1.0898 - accuracy: 0.3250\n",
      "Epoch 4/10\n",
      "6/6 [==============================] - 0s 3ms/step - loss: 1.0480 - accuracy: 0.3750\n",
      "Epoch 5/10\n",
      "6/6 [==============================] - 0s 4ms/step - loss: 1.0096 - accuracy: 0.4667\n",
      "Epoch 6/10\n",
      "6/6 [==============================] - 0s 2ms/step - loss: 0.9727 - accuracy: 0.5667\n",
      "Epoch 7/10\n",
      "6/6 [==============================] - 0s 2ms/step - loss: 0.9381 - accuracy: 0.6417\n",
      "Epoch 8/10\n",
      "6/6 [==============================] - 0s 3ms/step - loss: 0.9041 - accuracy: 0.6667\n",
      "Epoch 9/10\n",
      "6/6 [==============================] - 0s 2ms/step - loss: 0.8729 - accuracy: 0.6750\n",
      "Epoch 10/10\n",
      "6/6 [==============================] - 0s 2ms/step - loss: 0.8440 - accuracy: 0.6750\n",
      "Test Loss: 0.7931, Test Accuracy: 0.6667\n",
      "the index of max number in data prediction =\n",
      "2\n"
     ]
    }
   ],
   "source": [
    "import numpy as np\n",
    "import tensorflow as tf\n",
    "from sklearn.datasets import load_iris\n",
    "from sklearn.model_selection import train_test_split\n",
    "from sklearn.preprocessing import StandardScaler\n",
    "from sklearn.metrics import accuracy_score\n",
    "from tensorflow.keras.models import Sequential\n",
    "from tensorflow.keras.layers import Dense\n",
    "\n",
    "\n",
    "iris = load_iris()\n",
    "X = iris.data\n",
    "y = iris.target\n",
    "\n",
    "\n",
    "X_train, X_test, y_train, y_test = train_test_split(X, y, test_size=0.2, random_state=42)\n",
    "\n",
    "# Standardize the features\n",
    "scaler = StandardScaler()\n",
    "X_train = scaler.fit_transform(X_train)\n",
    "X_test = scaler.transform(X_test)\n",
    "\n",
    "model = Sequential([\n",
    "    Dense(10, activation='relu', input_shape=(4,)),\n",
    "    Dense(3, activation='softmax')  \n",
    "])\n",
    "\n",
    "\n",
    "model.compile(optimizer='adam', loss='sparse_categorical_crossentropy', metrics=['accuracy'])\n",
    "\n",
    "# Train the model\n",
    "num_epochs = 10\n",
    "model.fit(X_train, y_train, epochs=num_epochs, batch_size=20, verbose=1)\n",
    "\n",
    "# Evaluate on the test set\n",
    "test_loss, test_accuracy = model.evaluate(X_test, y_test, verbose=0)\n",
    "print(f'Test Loss: {test_loss:.4f}, Test Accuracy: {test_accuracy:.4f}') \n",
    "\n",
    "print(\"the index of max number in data prediction =\")\n",
    "maxp=np.argmax(y_test)\n",
    "print(maxp)"
   ]
  },
  {
   "cell_type": "code",
   "execution_count": 9,
   "metadata": {},
   "outputs": [
    {
     "name": "stdout",
     "output_type": "stream",
     "text": [
      "Epoch 1/10\n",
      "782/782 [==============================] - ETA: 0s - loss: 1.7510 - accuracy: 0.3506INFO:tensorflow:Assets written to: D:/Books/Data science/Coding\\NTi task tf lite\\assets\n"
     ]
    },
    {
     "name": "stderr",
     "output_type": "stream",
     "text": [
      "INFO:tensorflow:Assets written to: D:/Books/Data science/Coding\\NTi task tf lite\\assets\n"
     ]
    },
    {
     "name": "stdout",
     "output_type": "stream",
     "text": [
      "782/782 [==============================] - 39s 48ms/step - loss: 1.7510 - accuracy: 0.3506 - val_loss: 1.3925 - val_accuracy: 0.4840\n",
      "Epoch 2/10\n",
      "781/782 [============================>.] - ETA: 0s - loss: 1.4170 - accuracy: 0.4948INFO:tensorflow:Assets written to: D:/Books/Data science/Coding\\NTi task tf lite\\assets\n"
     ]
    },
    {
     "name": "stderr",
     "output_type": "stream",
     "text": [
      "INFO:tensorflow:Assets written to: D:/Books/Data science/Coding\\NTi task tf lite\\assets\n"
     ]
    },
    {
     "name": "stdout",
     "output_type": "stream",
     "text": [
      "782/782 [==============================] - 40s 51ms/step - loss: 1.4169 - accuracy: 0.4948 - val_loss: 1.2778 - val_accuracy: 0.5383\n",
      "Epoch 3/10\n",
      "781/782 [============================>.] - ETA: 0s - loss: 1.2819 - accuracy: 0.5471INFO:tensorflow:Assets written to: D:/Books/Data science/Coding\\NTi task tf lite\\assets\n"
     ]
    },
    {
     "name": "stderr",
     "output_type": "stream",
     "text": [
      "INFO:tensorflow:Assets written to: D:/Books/Data science/Coding\\NTi task tf lite\\assets\n"
     ]
    },
    {
     "name": "stdout",
     "output_type": "stream",
     "text": [
      "782/782 [==============================] - 38s 48ms/step - loss: 1.2820 - accuracy: 0.5471 - val_loss: 1.1100 - val_accuracy: 0.6025\n",
      "Epoch 4/10\n",
      "781/782 [============================>.] - ETA: 0s - loss: 1.1859 - accuracy: 0.5839INFO:tensorflow:Assets written to: D:/Books/Data science/Coding\\NTi task tf lite\\assets\n"
     ]
    },
    {
     "name": "stderr",
     "output_type": "stream",
     "text": [
      "INFO:tensorflow:Assets written to: D:/Books/Data science/Coding\\NTi task tf lite\\assets\n"
     ]
    },
    {
     "name": "stdout",
     "output_type": "stream",
     "text": [
      "782/782 [==============================] - 42s 54ms/step - loss: 1.1860 - accuracy: 0.5839 - val_loss: 1.0404 - val_accuracy: 0.6339\n",
      "Epoch 5/10\n",
      "780/782 [============================>.] - ETA: 0s - loss: 1.1153 - accuracy: 0.6088INFO:tensorflow:Assets written to: D:/Books/Data science/Coding\\NTi task tf lite\\assets\n"
     ]
    },
    {
     "name": "stderr",
     "output_type": "stream",
     "text": [
      "INFO:tensorflow:Assets written to: D:/Books/Data science/Coding\\NTi task tf lite\\assets\n"
     ]
    },
    {
     "name": "stdout",
     "output_type": "stream",
     "text": [
      "782/782 [==============================] - 39s 50ms/step - loss: 1.1153 - accuracy: 0.6087 - val_loss: 1.0194 - val_accuracy: 0.6387\n",
      "Epoch 6/10\n",
      "781/782 [============================>.] - ETA: 0s - loss: 1.0542 - accuracy: 0.6336INFO:tensorflow:Assets written to: D:/Books/Data science/Coding\\NTi task tf lite\\assets\n"
     ]
    },
    {
     "name": "stderr",
     "output_type": "stream",
     "text": [
      "INFO:tensorflow:Assets written to: D:/Books/Data science/Coding\\NTi task tf lite\\assets\n"
     ]
    },
    {
     "name": "stdout",
     "output_type": "stream",
     "text": [
      "782/782 [==============================] - 36s 46ms/step - loss: 1.0545 - accuracy: 0.6335 - val_loss: 0.9593 - val_accuracy: 0.6607\n",
      "Epoch 7/10\n",
      "780/782 [============================>.] - ETA: 0s - loss: 1.0091 - accuracy: 0.6479INFO:tensorflow:Assets written to: D:/Books/Data science/Coding\\NTi task tf lite\\assets\n"
     ]
    },
    {
     "name": "stderr",
     "output_type": "stream",
     "text": [
      "INFO:tensorflow:Assets written to: D:/Books/Data science/Coding\\NTi task tf lite\\assets\n"
     ]
    },
    {
     "name": "stdout",
     "output_type": "stream",
     "text": [
      "782/782 [==============================] - 34s 43ms/step - loss: 1.0095 - accuracy: 0.6478 - val_loss: 0.9398 - val_accuracy: 0.6755\n",
      "Epoch 8/10\n",
      "782/782 [==============================] - ETA: 0s - loss: 0.9741 - accuracy: 0.6614INFO:tensorflow:Assets written to: D:/Books/Data science/Coding\\NTi task tf lite\\assets\n"
     ]
    },
    {
     "name": "stderr",
     "output_type": "stream",
     "text": [
      "INFO:tensorflow:Assets written to: D:/Books/Data science/Coding\\NTi task tf lite\\assets\n"
     ]
    },
    {
     "name": "stdout",
     "output_type": "stream",
     "text": [
      "782/782 [==============================] - 38s 49ms/step - loss: 0.9741 - accuracy: 0.6614 - val_loss: 0.9358 - val_accuracy: 0.6791\n",
      "Epoch 9/10\n",
      "781/782 [============================>.] - ETA: 0s - loss: 0.9407 - accuracy: 0.6727INFO:tensorflow:Assets written to: D:/Books/Data science/Coding\\NTi task tf lite\\assets\n"
     ]
    },
    {
     "name": "stderr",
     "output_type": "stream",
     "text": [
      "INFO:tensorflow:Assets written to: D:/Books/Data science/Coding\\NTi task tf lite\\assets\n"
     ]
    },
    {
     "name": "stdout",
     "output_type": "stream",
     "text": [
      "782/782 [==============================] - 35s 45ms/step - loss: 0.9406 - accuracy: 0.6727 - val_loss: 0.8842 - val_accuracy: 0.6922\n",
      "Epoch 10/10\n",
      "782/782 [==============================] - 32s 41ms/step - loss: 0.9070 - accuracy: 0.6863 - val_loss: 0.8860 - val_accuracy: 0.6968\n",
      "313/313 [==============================] - 3s 8ms/step - loss: 0.8860 - accuracy: 0.6968\n",
      "Test accuracy: 0.6967999935150146\n"
     ]
    }
   ],
   "source": [
    "import tensorflow as tf\n",
    "from tensorflow.keras.datasets import cifar10\n",
    "from tensorflow.keras.models import Sequential\n",
    "from tensorflow.keras.layers import Conv2D, MaxPooling2D, Flatten, Dense, Dropout\n",
    "from tensorflow.keras.utils import to_categorical\n",
    "\n",
    "# Load data\n",
    "(x_train, y_train), (x_test, y_test) = cifar10.load_data()\n",
    "\n",
    "# pixel to 0,1\n",
    "x_train, x_test = x_train / 255.0, x_test / 255.0\n",
    "\n",
    "# Convert labels to categorical\n",
    "y_train = to_categorical(y_train, num_classes=10)\n",
    "y_test = to_categorical(y_test, num_classes=10)\n",
    "\n",
    "#  CNN model\n",
    "model = Sequential([\n",
    "    Conv2D(32, (3, 3), activation='relu', input_shape=(32, 32, 3)),  \n",
    "    MaxPooling2D((2, 2)),\n",
    "    Conv2D(64, (3, 3), activation='relu'),\n",
    "    MaxPooling2D((2, 2)),\n",
    "    Conv2D(64, (3, 3), activation='relu'),\n",
    "    Flatten(),\n",
    "    Dense(64, activation='relu'),\n",
    "    Dropout(0.5),\n",
    "    Dense(10, activation='softmax')\n",
    "])\n",
    "\n",
    "# Compile the model\n",
    "model.compile(optimizer='adam', loss='categorical_crossentropy', metrics=['accuracy'])\n",
    "\n",
    "#apply model tf lite deployment\n",
    "\n",
    "save_best=tf.keras.callbacks.ModelCheckpoint('D:/Books/Data science/Coding/NTi task tf lite',save_best_only=True)\n",
    "\n",
    "\n",
    "\n",
    "\n",
    "model.fit(x_train, y_train, epochs=10, batch_size=64, validation_data=(x_test, y_test),callbacks=save_best)\n",
    "\n",
    "# Evaluate the model\n",
    "test_loss, test_acc = model.evaluate(x_test, y_test)\n",
    "print(f\"Test accuracy: {test_acc}\")\n"
   ]
  },
  {
   "cell_type": "markdown",
   "metadata": {},
   "source": [
    "load the tf lite"
   ]
  },
  {
   "cell_type": "code",
   "execution_count": 13,
   "metadata": {},
   "outputs": [],
   "source": [
    "# apply model converter for mobile application\n",
    "model_tf_lite=tf.lite.TFLiteConverter.from_saved_model('D:/Books/Data science/Coding/NTi task tf lite/')\n",
    "converter=model_tf_lite.convert()\n",
    "with open('D:/Books/Data science/Coding/NTi task tf lite/model_lite/model.tflite','wb') as f:\n",
    "    f.write(converter)\n",
    "\n"
   ]
  },
  {
   "cell_type": "markdown",
   "metadata": {},
   "source": [
    "autoencoder"
   ]
  },
  {
   "cell_type": "code",
   "execution_count": null,
   "metadata": {},
   "outputs": [],
   "source": [
    "import tensorflow as tf\n",
    "import tensorflow.keras.datasets \n",
    "import tensorflow.keras.models \n",
    "import tensorflow.keras.layers \n",
    "\n",
    "# Load data\n",
    "(x_train, _), (x_test, _) = cifar10.load_data()\n",
    "\n",
    "x_train, x_test = x_train / 255.0, x_test / 255.0\n",
    "\n",
    "\n",
    "input_img = Input(shape=(32, 32, 3))\n",
    "encoded = Conv2D(32, (3, 3), activation='relu', padding='same')(input_img)\n",
    "encoded = MaxPooling2D((2, 2), padding='same')(encoded)\n",
    "encoded = Conv2D(64, (3, 3), activation='relu', padding='same')(encoded)\n",
    "encoded = MaxPooling2D((2, 2), padding='same')(encoded) \n",
    "encoded=Flatten()(X)\n",
    "\n",
    "decoded = Conv2D(64, (3, 3), activation='relu', padding='same')(encoded)\n",
    "decoded = UpSampling2D((2, 2))(decoded)\n",
    "decoded = Conv2D(32, (3, 3), activation='relu', padding='same')(decoded)\n",
    "decoded = UpSampling2D((2, 2))(decoded)\n",
    "decoded = Conv2D(3, (3, 3), activation='sigmoid', padding='same')(decoded)\n",
    "\n",
    "autoencoder = Model(input_img, decoded)\n",
    "autoencoder.compile(optimizer='adam', loss='mse')\n",
    "\n",
    "# Train the autoencoder\n",
    "history = autoencoder.fit(x_train, x_train, epochs=10, batch_size=128, validation_data=(x_test, x_test))\n",
    "\n",
    "# Evaluate the autoencoder\n",
    "decoded_imgs = autoencoder.predict(x_test)\n",
    "\n",
    "# Print the accuracy during training\n",
    "print(\"Accuracy during training:\")\n",
    "for epoch, acc in enumerate(history.history['val_loss'], 1):\n",
    "    print(f\"Epoch {epoch}: Loss = {acc}\")"
   ]
  }
 ],
 "metadata": {
  "kernelspec": {
   "display_name": "Python 3",
   "language": "python",
   "name": "python3"
  },
  "language_info": {
   "codemirror_mode": {
    "name": "ipython",
    "version": 3
   },
   "file_extension": ".py",
   "mimetype": "text/x-python",
   "name": "python",
   "nbconvert_exporter": "python",
   "pygments_lexer": "ipython3",
   "version": "3.11.3"
  },
  "orig_nbformat": 4
 },
 "nbformat": 4,
 "nbformat_minor": 2
}
